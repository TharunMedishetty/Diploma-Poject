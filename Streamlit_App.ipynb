{
  "nbformat": 4,
  "nbformat_minor": 0,
  "metadata": {
    "colab": {
      "provenance": [],
      "collapsed_sections": [],
      "authorship_tag": "ABX9TyPaWLENuYXsvA42IstgtY8G",
      "include_colab_link": true
    },
    "kernelspec": {
      "name": "python3",
      "display_name": "Python 3"
    },
    "language_info": {
      "name": "python"
    }
  },
  "cells": [
    {
      "cell_type": "markdown",
      "metadata": {
        "id": "view-in-github",
        "colab_type": "text"
      },
      "source": [
        "<a href=\"https://colab.research.google.com/github/TharunMedishetty/Diploma-Project/blob/main/Streamlit_App.ipynb\" target=\"_parent\"><img src=\"https://colab.research.google.com/assets/colab-badge.svg\" alt=\"Open In Colab\"/></a>"
      ]
    },
    {
      "cell_type": "code",
      "execution_count": null,
      "metadata": {
        "id": "mqBAs_83fz7c"
      },
      "outputs": [],
      "source": [
        "import pickle\n",
        "import streamlit as st\n",
        " \n",
        "# loading the trained model\n",
        "pickle_in = open('Regression_Model.pkl', 'rb') \n",
        "Regression_Model = pickle.load(pickle_in)\n",
        " \n",
        "@st.cache()\n",
        "\n",
        "# defining the function which will make the prediction using the data which the user inputs \n",
        "def prediction(name, item_condition_id, category_name, brand_name, shipping, item_description):   \n",
        " \n",
        "    # Making predictions \n",
        "    prediction = Regression_Model.predict( \n",
        "        [[name, item_condition_id, category_name, brand_name, shipping, item_description]])\n",
        "        \n",
        "        \n",
        " # this is the main function in which we define our webpage  \n",
        " def main():       \n",
        "    # front end elements of the web page \n",
        "    html_temp = \"\"\" \n",
        "    <div style =\"background-color:blue;padding:13px\"> \n",
        "    <h1 style =\"color:black;text-align:center;\">Mercari Price Suggestion ML App</h1> \n",
        "    </div> \n",
        "     \"\"\"\n",
        "      \n",
        "    # display the front end aspect\n",
        "    st.markdown(html_temp, unsafe_allow_html = True) \n",
        "      \n",
        "    # following lines create boxes in which user can enter data required to make prediction \n",
        "    name = st.text('name')\n",
        "    item_condition_id = st.selectbox('item_condition_id',(1,2,3,4,5))\n",
        "    category_name = st.text('category_name')\n",
        "    brand_name = st.text('brand_name')\n",
        "    shipping = st.selectbox('shipping',(1,0))\n",
        "    item_description = st.text('item_description')\n",
        "    result =\"\"\n",
        "      \n",
        "    # when 'Predict' is clicked, make the prediction and store it \n",
        "    if st.button(\"Predict\"): \n",
        "        result = prediction(name, item_condition_id, category_name, brand_name, shipping, item_description) \n",
        "        st.success('Price for the product is {}'.format(result))\n",
        "        \n",
        "     \n",
        "if __name__=='__main__': \n",
        "    main()\n",
        "  "
      ]
    }
  ]
}